{
 "cells": [
  {
   "cell_type": "markdown",
   "metadata": {},
   "source": [
    "# Summary\n",
    "In this notebook we will setup the *VI-Ts triangle* model to run a single image using local meteorological data.\n",
    "\n",
    "\n",
    "# TVDI setup\n",
    "The main input data consists of any *GDAL* compatible raster image containing the radiometric temperature(s) and a vegetation index image. Optionally one can also include:\n",
    "\n",
    "- A mask image which will filter the pixels to process/estimate the triangle edges (valid pixels==1).\n",
    "- An image with the potential maximum Priestley-Taylor parameter for potential Evapotranspiration. Used only if the triangle will output the Evaporative Fraction (**EF**).\n",
    "\n",
    "For more information about the inputs and outpus of pyTVDI click [here](./README_TVDI.md \"README_TVDI.md\")\n",
    "\n",
    "## Select the input and output files and fill the information in all tabs \n",
    "You can press the *Load Configuration File* button to load a configuration text file which will upload all its information to the corresponding cells. \n",
    "\n",
    "You can also press the *Save Configuration File* button to save the configuration in a text file which can be used in future runs."
   ]
  },
  {
   "cell_type": "code",
   "execution_count": null,
   "metadata": {
    "collapsed": false
   },
   "outputs": [],
   "source": [
    "from TVDI_IPython_Interface import TVDI_IPython_Interface # import the TVDI class object\n",
    "setup=TVDI_IPython_Interface() # Create the setup instance from the PyTSEB class object\n",
    "setup.TVDIWidget() # Load the TVDI configuration Widget"
   ]
  },
  {
   "cell_type": "markdown",
   "metadata": {
    "collapsed": true
   },
   "source": [
    "# Run TVDI\n",
    "Once the `pyTVDI` is configured we parsed all the information from the widgets and ran the selected model (**TVDI** or **EF**). \n",
    "\n",
    "After the processing is done a GeoTiff file will be saved at the specified *Output Folder*:\n",
    "\n",
    "- < Main Output Folder >/< Input File Basename >`_TVDI.tif`  \n",
    "\n",
    "`pyTVDI` will also produce the following ancillary outputs:\n",
    "\n",
    "- < Main Output Folder > `/line_equations_` < Input File Basename >`.txt`, with the computation parameters for the dry and wet edges.\n",
    "- < Main Output Folder >`/`< Input File Basename > `_TVDI_cols_` < `col_ini` >`_`< `col_end` >`_rows_`< `row_ini` >`_`< `row_end` >`.png`, with the scatterplot of the Ts-VI triangle space and the estimated dry and wet edges.\n",
    "\n",
    "\n",
    "# Display results\n",
    "Now we can open the image and display the Ts/VI output:"
   ]
  },
  {
   "cell_type": "code",
   "execution_count": null,
   "metadata": {
    "collapsed": false
   },
   "outputs": [],
   "source": [
    "# Change to have a different colour stretch\n",
    "high_flux=1 # Maximum flux value in the display\n",
    "low_flux=0 # Minimum flux value in the display\n",
    "\n",
    "from bokeh.plotting import *\n",
    "from bokeh.palettes import RdYlBu11 as colortable\n",
    "from bokeh.models.mappers import LinearColorMapper\n",
    "from bokeh.io import output_notebook\n",
    "import numpy as np\n",
    "import gdal\n",
    "from os.path import splitext,basename\n",
    "output_notebook()\n",
    "# Open the file\n",
    "outputfile=setup.io_inf['output_dir']+'/'+splitext(basename(setup.io_inf['ndvi_file']))[0]+'_TVDI.tif'\n",
    "fid=gdal.Open(outputfile,gdal.GA_ReadOnly)\n",
    "rows=fid.RasterYSize\n",
    "cols=fid.RasterXSize\n",
    "# read each band and store the arrays\n",
    "output=fid.GetRasterBand(1).ReadAsArray()\n",
    "del fid\n",
    "colortable=list(reversed(colortable))\n",
    "map_output=LinearColorMapper(palette=colortable,high=high_flux,low=low_flux)\n",
    "\n",
    "# Setup the figure\n",
    "if setup.w_model.value==0:\n",
    "    title='TVDI'\n",
    "else:\n",
    "    title='EF'\n",
    "s1= figure(title=title, x_range=[0, cols], y_range=[0, rows])\n",
    "s1.image(image=[np.flipud(output)],color_mapper=map_output,x=0,y=0)\n",
    "\n",
    "# Add a colormap legend\n",
    "y = np.linspace(low_flux,high_flux,len(colortable))\n",
    "dy = y[1]-y[0]\n",
    "ramp = figure(tools=\"\", y_range = [0, 1], x_range = [low_flux,high_flux], plot_width = 650, plot_height=100)\n",
    "ramp.toolbar_location=None\n",
    "ramp.yaxis.visible = None\n",
    "ramp.rect(x=y, y=0.5, color=colortable, width=dy, height = 1)\n",
    "\n",
    "show(s1)\n",
    "show(ramp);\n"
   ]
  },
  {
   "cell_type": "code",
   "execution_count": null,
   "metadata": {
    "collapsed": true
   },
   "outputs": [],
   "source": []
  }
 ],
 "metadata": {
  "kernelspec": {
   "display_name": "IPython (Python 3)",
   "language": "python",
   "name": "python3"
  },
  "language_info": {
   "codemirror_mode": {
    "name": "ipython",
    "version": 3
   },
   "file_extension": ".py",
   "mimetype": "text/x-python",
   "name": "python",
   "nbconvert_exporter": "python",
   "pygments_lexer": "ipython3",
   "version": "3.5.1"
  }
 },
 "nbformat": 4,
 "nbformat_minor": 0
}
